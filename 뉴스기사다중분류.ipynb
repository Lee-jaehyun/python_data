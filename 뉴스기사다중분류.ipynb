{
 "cells": [
  {
   "cell_type": "code",
   "execution_count": 1,
   "metadata": {},
   "outputs": [],
   "source": [
    "# 1986년 로이터에서 공개한 짧은 뉴스 기사와 토픽의 집합인 로이터 데이터셋을 사용합니다.\n",
    "# 46개의 토픽을 가지고 있음."
   ]
  },
  {
   "cell_type": "code",
   "execution_count": null,
   "metadata": {},
   "outputs": [],
   "source": []
  },
  {
   "cell_type": "markdown",
   "metadata": {},
   "source": [
    "## 데이터셋 로드하기"
   ]
  },
  {
   "cell_type": "code",
   "execution_count": 2,
   "metadata": {},
   "outputs": [],
   "source": [
    "from keras.datasets import reuters"
   ]
  },
  {
   "cell_type": "code",
   "execution_count": 3,
   "metadata": {},
   "outputs": [
    {
     "name": "stdout",
     "output_type": "stream",
     "text": [
      "Downloading data from https://storage.googleapis.com/tensorflow/tf-keras-datasets/reuters.npz\n",
      "2113536/2110848 [==============================] - 0s 0us/step\n"
     ]
    }
   ],
   "source": [
    "(train_data, train_labels), (test_data, test_labels) = reuters.load_data(num_words=10000)"
   ]
  },
  {
   "cell_type": "code",
   "execution_count": 10,
   "metadata": {},
   "outputs": [
    {
     "name": "stdout",
     "output_type": "stream",
     "text": [
      "8982\n",
      "2246\n"
     ]
    }
   ],
   "source": [
    "print(len(train_data))\n",
    "print(len(test_data))"
   ]
  },
  {
   "cell_type": "code",
   "execution_count": null,
   "metadata": {},
   "outputs": [],
   "source": []
  },
  {
   "cell_type": "markdown",
   "metadata": {},
   "source": [
    "## 로이터 데이터셋을 텍스트로 디코딩하기"
   ]
  },
  {
   "cell_type": "code",
   "execution_count": 11,
   "metadata": {},
   "outputs": [
    {
     "name": "stdout",
     "output_type": "stream",
     "text": [
      "Downloading data from https://storage.googleapis.com/tensorflow/tf-keras-datasets/reuters_word_index.json\n",
      "557056/550378 [==============================] - 0s 0us/step\n"
     ]
    }
   ],
   "source": [
    "word_index = reuters.get_word_index()\n",
    "reverse_word_index = dict([(value, key) for (key, value) in word_index.items()])\n",
    "decoded_newswire = ' '.join([reverse_word_index.get(i - 3, '?') for i in train_data[0]])"
   ]
  },
  {
   "cell_type": "code",
   "execution_count": 12,
   "metadata": {},
   "outputs": [
    {
     "data": {
      "text/plain": [
       "'? ? ? said as a result of its december acquisition of space co it expects earnings per share in 1987 of 1 15 to 1 30 dlrs per share up from 70 cts in 1986 the company said pretax net should rise to nine to 10 mln dlrs from six mln dlrs in 1986 and rental operation revenues to 19 to 22 mln dlrs from 12 5 mln dlrs it said cash flow per share this year should be 2 50 to three dlrs reuter 3'"
      ]
     },
     "execution_count": 12,
     "metadata": {},
     "output_type": "execute_result"
    }
   ],
   "source": [
    "decoded_newswire"
   ]
  },
  {
   "cell_type": "code",
   "execution_count": null,
   "metadata": {},
   "outputs": [],
   "source": []
  },
  {
   "cell_type": "markdown",
   "metadata": {},
   "source": [
    "## 데이터 인코딩하기"
   ]
  },
  {
   "cell_type": "code",
   "execution_count": 13,
   "metadata": {},
   "outputs": [],
   "source": [
    "import numpy as np"
   ]
  },
  {
   "cell_type": "code",
   "execution_count": 14,
   "metadata": {},
   "outputs": [],
   "source": [
    "def vectorize_sequences(sequences, dimension=10000):\n",
    "    results = np.zeros((len(sequences), dimension))\n",
    "    for i, sequence in enumerate(sequences):\n",
    "        results[i, sequence] = 1.\n",
    "    return results"
   ]
  },
  {
   "cell_type": "code",
   "execution_count": 47,
   "metadata": {},
   "outputs": [],
   "source": [
    "x_train = vectorize_sequences(train_data)\n",
    "x_test = vectorize_sequences(test_data)"
   ]
  },
  {
   "cell_type": "code",
   "execution_count": null,
   "metadata": {},
   "outputs": [],
   "source": []
  },
  {
   "cell_type": "code",
   "execution_count": 16,
   "metadata": {},
   "outputs": [],
   "source": [
    "from keras.utils.np_utils import to_categorical"
   ]
  },
  {
   "cell_type": "code",
   "execution_count": 17,
   "metadata": {},
   "outputs": [],
   "source": [
    "one_hot_train_labels = to_categorical(train_labels)\n",
    "one_hot_test_labels = to_categorical(test_labels)\n"
   ]
  },
  {
   "cell_type": "code",
   "execution_count": null,
   "metadata": {},
   "outputs": [],
   "source": []
  },
  {
   "cell_type": "markdown",
   "metadata": {},
   "source": [
    "## 모델 구성"
   ]
  },
  {
   "cell_type": "code",
   "execution_count": 18,
   "metadata": {},
   "outputs": [],
   "source": [
    "from keras import models, layers"
   ]
  },
  {
   "cell_type": "code",
   "execution_count": 41,
   "metadata": {},
   "outputs": [],
   "source": [
    "model = models.Sequential()\n",
    "model.add(layers.Dense(64, activation = 'relu', input_shape = (10000,)))\n",
    "model.add(layers.Dense(64, activation = 'relu'))\n",
    "model.add(layers.Dense(46, activation = 'softmax'))"
   ]
  },
  {
   "cell_type": "code",
   "execution_count": 20,
   "metadata": {},
   "outputs": [],
   "source": [
    "## 모델 컴파일하기"
   ]
  },
  {
   "cell_type": "code",
   "execution_count": 21,
   "metadata": {},
   "outputs": [],
   "source": [
    "model.compile(optimizer='rmsprop',\n",
    "             loss='categorical_crossentropy',\n",
    "             metrics = ['accuracy'])"
   ]
  },
  {
   "cell_type": "code",
   "execution_count": 22,
   "metadata": {},
   "outputs": [],
   "source": [
    "x_val = x_train[:1000]\n",
    "partial_x_train = x_train[1000:]\n",
    "y_val = one_hot_train_labels[:1000]\n",
    "partial_y_train = one_hot_train_labels[1000:]"
   ]
  },
  {
   "cell_type": "code",
   "execution_count": null,
   "metadata": {},
   "outputs": [],
   "source": []
  },
  {
   "cell_type": "code",
   "execution_count": 25,
   "metadata": {},
   "outputs": [
    {
     "name": "stdout",
     "output_type": "stream",
     "text": [
      "Epoch 1/20\n",
      "20/20 [==============================] - 1s 34ms/step - loss: 2.3853 - accuracy: 0.5547 - val_loss: 1.5662 - val_accuracy: 0.6770\n",
      "Epoch 2/20\n",
      "20/20 [==============================] - 1s 26ms/step - loss: 1.2768 - accuracy: 0.7181 - val_loss: 1.2176 - val_accuracy: 0.7380\n",
      "Epoch 3/20\n",
      "20/20 [==============================] - 1s 38ms/step - loss: 0.9498 - accuracy: 0.7937 - val_loss: 1.0794 - val_accuracy: 0.7700\n",
      "Epoch 4/20\n",
      "20/20 [==============================] - 1s 38ms/step - loss: 0.7307 - accuracy: 0.8450 - val_loss: 1.0230 - val_accuracy: 0.7750\n",
      "Epoch 5/20\n",
      "20/20 [==============================] - 1s 45ms/step - loss: 0.5723 - accuracy: 0.8785 - val_loss: 0.9178 - val_accuracy: 0.8050\n",
      "Epoch 6/20\n",
      "20/20 [==============================] - 1s 32ms/step - loss: 0.4491 - accuracy: 0.9027 - val_loss: 0.9198 - val_accuracy: 0.8050\n",
      "Epoch 7/20\n",
      "20/20 [==============================] - 1s 32ms/step - loss: 0.3587 - accuracy: 0.9257 - val_loss: 0.8970 - val_accuracy: 0.8150\n",
      "Epoch 8/20\n",
      "20/20 [==============================] - 1s 39ms/step - loss: 0.2918 - accuracy: 0.9372 - val_loss: 0.8931 - val_accuracy: 0.8180\n",
      "Epoch 9/20\n",
      "20/20 [==============================] - 1s 33ms/step - loss: 0.2428 - accuracy: 0.9425 - val_loss: 0.8937 - val_accuracy: 0.8200\n",
      "Epoch 10/20\n",
      "20/20 [==============================] - 1s 27ms/step - loss: 0.2086 - accuracy: 0.9496 - val_loss: 0.9085 - val_accuracy: 0.8270\n",
      "Epoch 11/20\n",
      "20/20 [==============================] - 1s 36ms/step - loss: 0.1848 - accuracy: 0.9508 - val_loss: 0.9127 - val_accuracy: 0.8160\n",
      "Epoch 12/20\n",
      "20/20 [==============================] - 1s 32ms/step - loss: 0.1614 - accuracy: 0.9521 - val_loss: 0.9394 - val_accuracy: 0.8150\n",
      "Epoch 13/20\n",
      "20/20 [==============================] - 1s 39ms/step - loss: 0.1502 - accuracy: 0.9526 - val_loss: 0.9976 - val_accuracy: 0.8010\n",
      "Epoch 14/20\n",
      "20/20 [==============================] - 1s 37ms/step - loss: 0.1409 - accuracy: 0.9557 - val_loss: 0.9958 - val_accuracy: 0.8050\n",
      "Epoch 15/20\n",
      "20/20 [==============================] - 1s 29ms/step - loss: 0.1295 - accuracy: 0.9582 - val_loss: 1.0412 - val_accuracy: 0.8120\n",
      "Epoch 16/20\n",
      "20/20 [==============================] - 1s 36ms/step - loss: 0.1276 - accuracy: 0.9565 - val_loss: 1.0345 - val_accuracy: 0.8090\n",
      "Epoch 17/20\n",
      "20/20 [==============================] - 1s 29ms/step - loss: 0.1229 - accuracy: 0.9563 - val_loss: 1.0227 - val_accuracy: 0.8110\n",
      "Epoch 18/20\n",
      "20/20 [==============================] - 1s 26ms/step - loss: 0.1152 - accuracy: 0.9577 - val_loss: 1.0973 - val_accuracy: 0.8000\n",
      "Epoch 19/20\n",
      "20/20 [==============================] - 1s 29ms/step - loss: 0.1181 - accuracy: 0.9551 - val_loss: 1.0980 - val_accuracy: 0.7990\n",
      "Epoch 20/20\n",
      "20/20 [==============================] - 1s 27ms/step - loss: 0.1121 - accuracy: 0.9562 - val_loss: 1.1846 - val_accuracy: 0.7880\n"
     ]
    }
   ],
   "source": [
    "history = model.fit(partial_x_train, partial_y_train, epochs=20, batch_size=412, validation_data=(x_val, y_val))"
   ]
  },
  {
   "cell_type": "code",
   "execution_count": null,
   "metadata": {},
   "outputs": [],
   "source": []
  },
  {
   "cell_type": "code",
   "execution_count": 26,
   "metadata": {},
   "outputs": [],
   "source": [
    "import matplotlib.pyplot as plt"
   ]
  },
  {
   "cell_type": "code",
   "execution_count": 35,
   "metadata": {},
   "outputs": [
    {
     "data": {
      "image/png": "[encoded data removed]",
      "text/plain": [
       "<Figure size 432x288 with 2 Axes>"
      ]
     },
     "metadata": {
      "needs_background": "light"
     },
     "output_type": "display_data"
    }
   ],
   "source": [
    "loss = history.history['loss']\n",
    "val_loss = history.history['val_loss']\n",
    "\n",
    "epochs = range(1, len(loss) + 1)\n",
    "\n",
    "plt.subplot(211)\n",
    "plt.plot(epochs, loss, 'bo', label='Training loss')\n",
    "plt.plot(epochs, val_loss, 'r', label='Validation loss')\n",
    "plt.title('Training and validation loss')\n",
    "plt.xlabel('Epochs')\n",
    "plt.ylabel('Loss')\n",
    "plt.legend()\n",
    "\n",
    "\n",
    "plt.subplot(212)\n",
    "acc = history.history['accuracy']\n",
    "val_acc = history.history['val_accuracy']\n",
    "\n",
    "plt.plot(epochs, acc, 'bo', label = 'Training acc')\n",
    "plt.plot(epochs, val_acc, 'r', label='Validation acc')\n",
    "plt.xlabel('Epochs')\n",
    "plt.ylabel('Accuracy')\n",
    "plt.legend()\n",
    "plt.show()"
   ]
  },
  {
   "cell_type": "code",
   "execution_count": null,
   "metadata": {},
   "outputs": [],
   "source": []
  },
  {
   "cell_type": "code",
   "execution_count": 36,
   "metadata": {},
   "outputs": [],
   "source": [
    "# model을 처음부터 다시 훈련하기"
   ]
  },
  {
   "cell_type": "code",
   "execution_count": 54,
   "metadata": {},
   "outputs": [],
   "source": [
    "model = models.Sequential()\n",
    "model.add(layers.Dense(64, activation = 'relu', input_shape=(10000,)))\n",
    "model.add(layers.Dense(50, activation = 'relu'))\n",
    "model.add(layers.Dense(64, activation = 'relu'))\n",
    "model.add(layers.Dense(32, activation = 'relu'))\n",
    "model.add(layers.Dense(46, activation = 'softmax'))\n",
    "\n",
    "model.compile(optimizer = 'rmsprop',\n",
    "             loss = 'categorical_crossentropy',\n",
    "             metrics = ['accuracy'])"
   ]
  },
  {
   "cell_type": "code",
   "execution_count": 55,
   "metadata": {},
   "outputs": [
    {
     "name": "stdout",
     "output_type": "stream",
     "text": [
      "Epoch 1/20\n",
      "63/63 [==============================] - 1s 22ms/step - loss: 2.0781 - accuracy: 0.5566 - val_loss: 1.4255 - val_accuracy: 0.6790\n",
      "Epoch 2/20\n",
      "63/63 [==============================] - 1s 21ms/step - loss: 1.1659 - accuracy: 0.7349 - val_loss: 1.1761 - val_accuracy: 0.7420\n",
      "Epoch 3/20\n",
      "63/63 [==============================] - 1s 20ms/step - loss: 0.8350 - accuracy: 0.8094 - val_loss: 1.1382 - val_accuracy: 0.7560\n",
      "Epoch 4/20\n",
      "63/63 [==============================] - 1s 18ms/step - loss: 0.6055 - accuracy: 0.8609 - val_loss: 1.0988 - val_accuracy: 0.7800\n",
      "Epoch 5/20\n",
      "63/63 [==============================] - 1s 19ms/step - loss: 0.4475 - accuracy: 0.9007 - val_loss: 1.1371 - val_accuracy: 0.7870\n",
      "Epoch 6/20\n",
      "63/63 [==============================] - 1s 20ms/step - loss: 0.3398 - accuracy: 0.9278 - val_loss: 1.1605 - val_accuracy: 0.7800\n",
      "Epoch 7/20\n",
      "63/63 [==============================] - 1s 22ms/step - loss: 0.2737 - accuracy: 0.9396 - val_loss: 1.2408 - val_accuracy: 0.7790\n",
      "Epoch 8/20\n",
      "63/63 [==============================] - 1s 20ms/step - loss: 0.2319 - accuracy: 0.9458 - val_loss: 1.2823 - val_accuracy: 0.7840\n",
      "Epoch 9/20\n",
      "63/63 [==============================] - 1s 21ms/step - loss: 0.1980 - accuracy: 0.9509 - val_loss: 1.2997 - val_accuracy: 0.7860\n",
      "Epoch 10/20\n",
      "63/63 [==============================] - 2s 32ms/step - loss: 0.1760 - accuracy: 0.9528 - val_loss: 1.3241 - val_accuracy: 0.7790\n",
      "Epoch 11/20\n",
      "63/63 [==============================] - 2s 25ms/step - loss: 0.1664 - accuracy: 0.9520 - val_loss: 1.3514 - val_accuracy: 0.7680\n",
      "Epoch 12/20\n",
      "63/63 [==============================] - 1s 19ms/step - loss: 0.1505 - accuracy: 0.9551 - val_loss: 1.4056 - val_accuracy: 0.7620\n",
      "Epoch 13/20\n",
      "63/63 [==============================] - 1s 19ms/step - loss: 0.1459 - accuracy: 0.9533 - val_loss: 1.3702 - val_accuracy: 0.7760\n",
      "Epoch 14/20\n",
      "63/63 [==============================] - 1s 20ms/step - loss: 0.1362 - accuracy: 0.9559 - val_loss: 1.4849 - val_accuracy: 0.7670\n",
      "Epoch 15/20\n",
      "63/63 [==============================] - 1s 20ms/step - loss: 0.1257 - accuracy: 0.9557 - val_loss: 1.5027 - val_accuracy: 0.7750\n",
      "Epoch 16/20\n",
      "63/63 [==============================] - 1s 19ms/step - loss: 0.1217 - accuracy: 0.9548 - val_loss: 1.5672 - val_accuracy: 0.7750\n",
      "Epoch 17/20\n",
      "63/63 [==============================] - 1s 22ms/step - loss: 0.1161 - accuracy: 0.9560 - val_loss: 1.6760 - val_accuracy: 0.7650\n",
      "Epoch 18/20\n",
      "63/63 [==============================] - 1s 20ms/step - loss: 0.1115 - accuracy: 0.9568 - val_loss: 1.6225 - val_accuracy: 0.7660\n",
      "Epoch 19/20\n",
      "63/63 [==============================] - 1s 22ms/step - loss: 0.1041 - accuracy: 0.9590 - val_loss: 1.7533 - val_accuracy: 0.7710\n",
      "Epoch 20/20\n",
      "63/63 [==============================] - 2s 28ms/step - loss: 0.1079 - accuracy: 0.9551 - val_loss: 1.7196 - val_accuracy: 0.7700\n"
     ]
    },
    {
     "data": {
      "text/plain": [
       "<tensorflow.python.keras.callbacks.History at 0x227825e4da0>"
      ]
     },
     "execution_count": 55,
     "metadata": {},
     "output_type": "execute_result"
    }
   ],
   "source": [
    "model.fit(partial_x_train, partial_y_train, epochs=20, batch_size = 128, validation_data=(x_val, y_val))"
   ]
  },
  {
   "cell_type": "code",
   "execution_count": 48,
   "metadata": {},
   "outputs": [],
   "source": [
    "predictions = model.predict(x_test)"
   ]
  },
  {
   "cell_type": "code",
   "execution_count": 53,
   "metadata": {},
   "outputs": [
    {
     "data": {
      "text/plain": [
       "3"
      ]
     },
     "execution_count": 53,
     "metadata": {},
     "output_type": "execute_result"
    }
   ],
   "source": [
    "np.argmax(predictions[0])"
   ]
  },
  {
   "cell_type": "code",
   "execution_count": 56,
   "metadata": {},
   "outputs": [
    {
     "data": {
      "text/plain": [
       "2246"
      ]
     },
     "execution_count": 56,
     "metadata": {},
     "output_type": "execute_result"
    }
   ],
   "source": [
    "len(x_test)"
   ]
  },
  {
   "cell_type": "code",
   "execution_count": null,
   "metadata": {},
   "outputs": [],
   "source": []
  }
 ],
 "metadata": {
  "kernelspec": {
   "display_name": "Python 3",
   "language": "python",
   "name": "python3"
  },
  "language_info": {
   "codemirror_mode": {
    "name": "ipython",
    "version": 3
   },
   "file_extension": ".py",
   "mimetype": "text/x-python",
   "name": "python",
   "nbconvert_exporter": "python",
   "pygments_lexer": "ipython3",
   "version": "3.6.10"
  }
 },
 "nbformat": 4,
 "nbformat_minor": 4
}
